{
  "nbformat": 4,
  "nbformat_minor": 0,
  "metadata": {
    "colab": {
      "provenance": []
    },
    "kernelspec": {
      "name": "python3",
      "display_name": "Python 3"
    },
    "language_info": {
      "name": "python"
    }
  },
  "cells": [
    {
      "cell_type": "markdown",
      "source": [
        "NumPy - Numerical Python\n",
        "Advantages of Numpy arrays:\n",
        "1. Allows several Mathematical Operations\n",
        "2. Faster Operations\n"
      ],
      "metadata": {
        "id": "12USlgG0QsQ8"
      }
    },
    {
      "cell_type": "code",
      "execution_count": 1,
      "metadata": {
        "id": "AUi1AGLHQTlr"
      },
      "outputs": [],
      "source": [
        "import numpy as np\n",
        "\n"
      ]
    },
    {
      "cell_type": "code",
      "source": [
        "#list vs Numpy  - Time Taken"
      ],
      "metadata": {
        "id": "aKPfuPq-Qw9z"
      },
      "execution_count": 2,
      "outputs": []
    },
    {
      "cell_type": "code",
      "source": [
        "from time import process_time"
      ],
      "metadata": {
        "id": "VnJPtWKrRF2G"
      },
      "execution_count": 3,
      "outputs": []
    },
    {
      "cell_type": "markdown",
      "source": [
        "Time taken by a list"
      ],
      "metadata": {
        "id": "y390O2J7RMln"
      }
    },
    {
      "cell_type": "code",
      "source": [
        "python_list = [i for i in range(100000)]\n",
        "\n",
        "start_time = process_time()\n",
        "python_list = [i + 5 for i in python_list]\n",
        "end_time = process_time()\n",
        "print(end_time - start_time)"
      ],
      "metadata": {
        "colab": {
          "base_uri": "https://localhost:8080/"
        },
        "id": "Lt3sh5esRKW7",
        "outputId": "14a78a36-6f96-4604-eae4-b43f287427a9"
      },
      "execution_count": 4,
      "outputs": [
        {
          "output_type": "stream",
          "name": "stdout",
          "text": [
            "0.00999912799999958\n"
          ]
        }
      ]
    },
    {
      "cell_type": "code",
      "source": [
        "np_array = np.array([i for i in range(100000)])\n",
        "\n",
        "start_time = process_time()\n",
        "np_array = np.array([i +5 for i in np_array])\n",
        "end_time = process_time()\n",
        "print(end_time - start_time)"
      ],
      "metadata": {
        "colab": {
          "base_uri": "https://localhost:8080/"
        },
        "id": "TokT5_odRsza",
        "outputId": "cab0e0a4-3fd9-486b-e7a5-501bf2df0d89"
      },
      "execution_count": 6,
      "outputs": [
        {
          "output_type": "stream",
          "name": "stdout",
          "text": [
            "0.0202345510000006\n"
          ]
        }
      ]
    },
    {
      "cell_type": "code",
      "source": [
        "np_array = np.array([i for i in range(100000)])\n",
        "\n",
        "start_time = process_time()\n",
        "#np_array = np.array([i +5 for i in np_array])\n",
        "np_array += 5\n",
        "end_time = process_time()\n",
        "print(end_time - start_time)"
      ],
      "metadata": {
        "colab": {
          "base_uri": "https://localhost:8080/"
        },
        "id": "5J5vqFo8SFCC",
        "outputId": "5a4e1fd9-f733-40b8-c619-a26154eed10a"
      },
      "execution_count": 7,
      "outputs": [
        {
          "output_type": "stream",
          "name": "stdout",
          "text": [
            "0.0012812679999996135\n"
          ]
        }
      ]
    },
    {
      "cell_type": "code",
      "source": [
        "list1 = [1,2,3,4]\n",
        "print(list1)\n",
        "type(list1)"
      ],
      "metadata": {
        "colab": {
          "base_uri": "https://localhost:8080/"
        },
        "id": "bK6iKiWLSZwd",
        "outputId": "c325abf4-2433-4613-e9ad-4870f9201883"
      },
      "execution_count": 8,
      "outputs": [
        {
          "output_type": "stream",
          "name": "stdout",
          "text": [
            "[1, 2, 3, 4]\n"
          ]
        },
        {
          "output_type": "execute_result",
          "data": {
            "text/plain": [
              "list"
            ]
          },
          "metadata": {},
          "execution_count": 8
        }
      ]
    },
    {
      "cell_type": "code",
      "source": [
        "np_array = np.array([1,2,3,4])\n",
        "print(np_array)\n",
        "type(np_array)"
      ],
      "metadata": {
        "colab": {
          "base_uri": "https://localhost:8080/"
        },
        "id": "EG5eD6zTThHx",
        "outputId": "c61ba060-f33a-45b2-f9f2-71aa9445ef3c"
      },
      "execution_count": 9,
      "outputs": [
        {
          "output_type": "stream",
          "name": "stdout",
          "text": [
            "[1 2 3 4]\n"
          ]
        },
        {
          "output_type": "execute_result",
          "data": {
            "text/plain": [
              "numpy.ndarray"
            ]
          },
          "metadata": {},
          "execution_count": 9
        }
      ]
    },
    {
      "cell_type": "markdown",
      "source": [
        "nd => n- dimension array\n"
      ],
      "metadata": {
        "id": "L_J8Ap4kTzn-"
      }
    },
    {
      "cell_type": "code",
      "source": [
        "#creating a 1-d array\n",
        "a = np.array([1,2,3,4])\n",
        "print(a)"
      ],
      "metadata": {
        "colab": {
          "base_uri": "https://localhost:8080/"
        },
        "id": "3_D-Z3PvTyDI",
        "outputId": "ecce3c8a-a111-40fa-a611-93dc12baab72"
      },
      "execution_count": 10,
      "outputs": [
        {
          "output_type": "stream",
          "name": "stdout",
          "text": [
            "[1 2 3 4]\n"
          ]
        }
      ]
    },
    {
      "cell_type": "code",
      "source": [
        "a.shape"
      ],
      "metadata": {
        "colab": {
          "base_uri": "https://localhost:8080/"
        },
        "id": "TWI4mCLMUE4d",
        "outputId": "f7dcd89a-1a54-453b-cc5b-c69c265ac502"
      },
      "execution_count": 11,
      "outputs": [
        {
          "output_type": "execute_result",
          "data": {
            "text/plain": [
              "(4,)"
            ]
          },
          "metadata": {},
          "execution_count": 11
        }
      ]
    },
    {
      "cell_type": "code",
      "source": [
        "b = np.array([[1,2,3],[4,5,6]])\n",
        "print(b)"
      ],
      "metadata": {
        "colab": {
          "base_uri": "https://localhost:8080/"
        },
        "id": "IpcTlJc0UG4f",
        "outputId": "d575f080-0220-4339-ea55-d5b2796922f9"
      },
      "execution_count": 13,
      "outputs": [
        {
          "output_type": "stream",
          "name": "stdout",
          "text": [
            "[[1 2 3]\n",
            " [4 5 6]]\n"
          ]
        },
        {
          "output_type": "execute_result",
          "data": {
            "text/plain": [
              "(2, 3)"
            ]
          },
          "metadata": {},
          "execution_count": 13
        }
      ]
    },
    {
      "cell_type": "code",
      "source": [
        "b.shape"
      ],
      "metadata": {
        "colab": {
          "base_uri": "https://localhost:8080/"
        },
        "id": "blNX2P2vUPf6",
        "outputId": "8a7500a3-417c-42f4-ba96-2f25080d5406"
      },
      "execution_count": 14,
      "outputs": [
        {
          "output_type": "execute_result",
          "data": {
            "text/plain": [
              "(2, 3)"
            ]
          },
          "metadata": {},
          "execution_count": 14
        }
      ]
    },
    {
      "cell_type": "code",
      "source": [
        "c= np.array([1,2,3], dtype = float)\n",
        "print(c)"
      ],
      "metadata": {
        "colab": {
          "base_uri": "https://localhost:8080/"
        },
        "id": "Cky276BfUhK1",
        "outputId": "d9174dd0-65cf-47b7-e264-55c4320054ce"
      },
      "execution_count": 16,
      "outputs": [
        {
          "output_type": "stream",
          "name": "stdout",
          "text": [
            "[1. 2. 3.]\n"
          ]
        }
      ]
    },
    {
      "cell_type": "markdown",
      "source": [
        "Initial placeholder in numpy arrays"
      ],
      "metadata": {
        "id": "1BlRUeGdUwuQ"
      }
    },
    {
      "cell_type": "code",
      "source": [
        "#creating a numpy array of zeros\n",
        "x = np.zeros((3,4))\n",
        "print(x)"
      ],
      "metadata": {
        "colab": {
          "base_uri": "https://localhost:8080/"
        },
        "id": "lJjMEnYPUsEo",
        "outputId": "8832e438-6f83-4720-a4e3-278050551fab"
      },
      "execution_count": 18,
      "outputs": [
        {
          "output_type": "stream",
          "name": "stdout",
          "text": [
            "[[0. 0. 0. 0.]\n",
            " [0. 0. 0. 0.]\n",
            " [0. 0. 0. 0.]]\n"
          ]
        }
      ]
    },
    {
      "cell_type": "code",
      "source": [
        "#create a numpy array of ones\n",
        "y = np.ones((3,4))\n",
        "print(y)"
      ],
      "metadata": {
        "colab": {
          "base_uri": "https://localhost:8080/"
        },
        "id": "FgIwZ5XhVDrW",
        "outputId": "0bcd9eee-5200-491d-a69a-b3a57b48a837"
      },
      "execution_count": 20,
      "outputs": [
        {
          "output_type": "stream",
          "name": "stdout",
          "text": [
            "[[1. 1. 1. 1.]\n",
            " [1. 1. 1. 1.]\n",
            " [1. 1. 1. 1.]]\n"
          ]
        }
      ]
    },
    {
      "cell_type": "code",
      "source": [
        "#array of a specific value\n",
        "z = np.full((3,4),5)\n",
        "print(z)"
      ],
      "metadata": {
        "colab": {
          "base_uri": "https://localhost:8080/"
        },
        "id": "U2WDXjGrVQjS",
        "outputId": "2d49d1a2-62be-4396-fc46-a68e3a3c7593"
      },
      "execution_count": 22,
      "outputs": [
        {
          "output_type": "stream",
          "name": "stdout",
          "text": [
            "[[5 5 5 5]\n",
            " [5 5 5 5]\n",
            " [5 5 5 5]]\n"
          ]
        }
      ]
    },
    {
      "cell_type": "code",
      "source": [
        "#creating an identity matrix\n",
        "a = np.eye(5)\n",
        "print(a)"
      ],
      "metadata": {
        "colab": {
          "base_uri": "https://localhost:8080/"
        },
        "id": "Iv9DvXEuVhgV",
        "outputId": "c66cf3fa-cd98-4a69-908e-16a13f34d0fe"
      },
      "execution_count": 24,
      "outputs": [
        {
          "output_type": "stream",
          "name": "stdout",
          "text": [
            "[[1. 0. 0. 0. 0.]\n",
            " [0. 1. 0. 0. 0.]\n",
            " [0. 0. 1. 0. 0.]\n",
            " [0. 0. 0. 1. 0.]\n",
            " [0. 0. 0. 0. 1.]]\n"
          ]
        }
      ]
    },
    {
      "cell_type": "code",
      "source": [
        "#create a numpy array with random values\n",
        "b= np.random.random((4,5))\n",
        "print(b)"
      ],
      "metadata": {
        "colab": {
          "base_uri": "https://localhost:8080/"
        },
        "id": "ukF4KwKKV7Pu",
        "outputId": "ac965609-af02-40f4-8fb0-296c83b0005a"
      },
      "execution_count": 26,
      "outputs": [
        {
          "output_type": "stream",
          "name": "stdout",
          "text": [
            "[[0.97848056 0.1146531  0.44404099 0.53360413 0.00324775]\n",
            " [0.56929772 0.79822806 0.86762865 0.67835078 0.64140269]\n",
            " [0.03209025 0.30849604 0.67065924 0.06625731 0.46378455]\n",
            " [0.74306984 0.63732941 0.86563947 0.31976243 0.08787736]]\n"
          ]
        }
      ]
    },
    {
      "cell_type": "code",
      "source": [
        "#random integer value within a specific range\n",
        "c= np.random.randint(15,200,(3,4))\n",
        "print(c)"
      ],
      "metadata": {
        "colab": {
          "base_uri": "https://localhost:8080/"
        },
        "id": "pDgRMQ-9WE-2",
        "outputId": "399e0160-5373-4a9e-b4be-877ade63ea52"
      },
      "execution_count": 28,
      "outputs": [
        {
          "output_type": "stream",
          "name": "stdout",
          "text": [
            "[[149 155  87 111]\n",
            " [186 150  48  38]\n",
            " [152  32  42 164]]\n"
          ]
        }
      ]
    },
    {
      "cell_type": "code",
      "source": [
        "#array of evenly spaced value --> specifying total number of values required\n",
        "d = np.linspace(50,100,5)\n",
        "print(d)"
      ],
      "metadata": {
        "colab": {
          "base_uri": "https://localhost:8080/"
        },
        "id": "bZZhLJ6YWa8y",
        "outputId": "96bb4a92-805d-4e14-af90-f1cec1f1e1c2"
      },
      "execution_count": 33,
      "outputs": [
        {
          "output_type": "stream",
          "name": "stdout",
          "text": [
            "[ 50.   62.5  75.   87.5 100. ]\n"
          ]
        }
      ]
    },
    {
      "cell_type": "code",
      "source": [
        "#array of evenly spaced values -> specifying the step\n",
        "e = np.arange(10,60,7)\n",
        "print(e)"
      ],
      "metadata": {
        "colab": {
          "base_uri": "https://localhost:8080/"
        },
        "id": "pvJBVLUVW5P7",
        "outputId": "2ec7a76b-81bb-420e-bee5-67ce69054a2c"
      },
      "execution_count": 36,
      "outputs": [
        {
          "output_type": "stream",
          "name": "stdout",
          "text": [
            "[10 17 24 31 38 45 52 59]\n"
          ]
        }
      ]
    },
    {
      "cell_type": "code",
      "source": [
        "#convert a list to a numpy array/ can do with tuple too\n",
        "list2 = [1,2,3,4,5]\n",
        "np_array =np.asarray(list2)\n",
        "print(np_array)\n",
        "type(np_array)"
      ],
      "metadata": {
        "colab": {
          "base_uri": "https://localhost:8080/"
        },
        "id": "YTtSRIQUXa0J",
        "outputId": "d34a03ad-847c-418a-eca8-05398ced3f1d"
      },
      "execution_count": 37,
      "outputs": [
        {
          "output_type": "stream",
          "name": "stdout",
          "text": [
            "[1 2 3 4 5]\n"
          ]
        },
        {
          "output_type": "execute_result",
          "data": {
            "text/plain": [
              "numpy.ndarray"
            ]
          },
          "metadata": {},
          "execution_count": 37
        }
      ]
    },
    {
      "cell_type": "markdown",
      "source": [
        "Analysing a numpy array"
      ],
      "metadata": {
        "id": "K_06BwyzYXt8"
      }
    },
    {
      "cell_type": "code",
      "source": [
        "c = np.random.randint(10,90,(5,5))\n",
        "print(c)"
      ],
      "metadata": {
        "colab": {
          "base_uri": "https://localhost:8080/"
        },
        "id": "gkCtpH7KYM8W",
        "outputId": "f50ef8b3-dd1b-4d91-e584-ca7d59dc72ca"
      },
      "execution_count": 38,
      "outputs": [
        {
          "output_type": "stream",
          "name": "stdout",
          "text": [
            "[[61 55 61 73 25]\n",
            " [28 21 16 70 85]\n",
            " [64 35 22 89 42]\n",
            " [31 25 86 26 31]\n",
            " [84 58 35 25 55]]\n"
          ]
        }
      ]
    },
    {
      "cell_type": "code",
      "source": [
        "print(c.shape)\n",
        "#c.shape"
      ],
      "metadata": {
        "colab": {
          "base_uri": "https://localhost:8080/"
        },
        "id": "BljgWOPlYqoM",
        "outputId": "be5ab876-175f-4087-ffe5-07eebe85048a"
      },
      "execution_count": 39,
      "outputs": [
        {
          "output_type": "stream",
          "name": "stdout",
          "text": [
            "(5, 5)\n"
          ]
        }
      ]
    },
    {
      "cell_type": "code",
      "source": [
        "#number of dimension\n",
        "c.ndim\n",
        "#print(c.ndim)"
      ],
      "metadata": {
        "colab": {
          "base_uri": "https://localhost:8080/"
        },
        "id": "E_RrsfkVYx4A",
        "outputId": "15a40263-4fc9-4d2b-ee83-eb44b82fe354"
      },
      "execution_count": 41,
      "outputs": [
        {
          "output_type": "execute_result",
          "data": {
            "text/plain": [
              "2"
            ]
          },
          "metadata": {},
          "execution_count": 41
        }
      ]
    },
    {
      "cell_type": "code",
      "source": [
        "#numbr of elements in array\n",
        "c.size"
      ],
      "metadata": {
        "colab": {
          "base_uri": "https://localhost:8080/"
        },
        "id": "6QtH1jFmY4Xi",
        "outputId": "93007511-a5cd-4aa7-bb27-90c27e3a81f4"
      },
      "execution_count": 43,
      "outputs": [
        {
          "output_type": "execute_result",
          "data": {
            "text/plain": [
              "25"
            ]
          },
          "metadata": {},
          "execution_count": 43
        }
      ]
    },
    {
      "cell_type": "code",
      "source": [
        "#checking the data type of values in the array\n",
        "c.dtype"
      ],
      "metadata": {
        "colab": {
          "base_uri": "https://localhost:8080/"
        },
        "id": "kRVnx69BZA0d",
        "outputId": "3104de84-a86a-4fb6-bd91-5d2f9a0b59f2"
      },
      "execution_count": 44,
      "outputs": [
        {
          "output_type": "execute_result",
          "data": {
            "text/plain": [
              "dtype('int64')"
            ]
          },
          "metadata": {},
          "execution_count": 44
        }
      ]
    },
    {
      "cell_type": "markdown",
      "source": [
        "Mathematical operations on a np array\n"
      ],
      "metadata": {
        "id": "vTcoxWRqZag9"
      }
    },
    {
      "cell_type": "code",
      "source": [
        "list1 = [1,2,3,4]\n",
        "list2 = [5,6,7,8,9]\n",
        "print(list1 + list2)"
      ],
      "metadata": {
        "colab": {
          "base_uri": "https://localhost:8080/"
        },
        "id": "pkloeLmGZQ-V",
        "outputId": "c1665a33-1ce7-4150-e4a2-694cae0ff575"
      },
      "execution_count": 46,
      "outputs": [
        {
          "output_type": "stream",
          "name": "stdout",
          "text": [
            "[1, 2, 3, 4, 5, 6, 7, 8, 9]\n"
          ]
        }
      ]
    },
    {
      "cell_type": "code",
      "source": [
        "a = np.random.randint(0,10,(3,3))\n",
        "b = np.random.randint(10,20,(3,3))\n",
        "print(a)\n",
        "print(b)\n",
        "print(a+b)# shape should be same to perform this operation"
      ],
      "metadata": {
        "colab": {
          "base_uri": "https://localhost:8080/"
        },
        "id": "PQgHtcy2ZOPT",
        "outputId": "df09a084-8082-4b57-fc5f-8e8004409fc1"
      },
      "execution_count": 49,
      "outputs": [
        {
          "output_type": "stream",
          "name": "stdout",
          "text": [
            "[[2 8 6]\n",
            " [9 7 3]\n",
            " [6 4 8]]\n",
            "[[15 16 16]\n",
            " [18 10 11]\n",
            " [12 17 18]]\n",
            "[[17 24 22]\n",
            " [27 17 14]\n",
            " [18 21 26]]\n"
          ]
        }
      ]
    },
    {
      "cell_type": "code",
      "source": [
        "print(a-b)\n",
        "print(a*b)\n",
        "print(a/b)"
      ],
      "metadata": {
        "colab": {
          "base_uri": "https://localhost:8080/"
        },
        "id": "CcKxZnDQZxxH",
        "outputId": "c268173b-5c71-4c5b-bab0-9e8e30aa73b0"
      },
      "execution_count": 50,
      "outputs": [
        {
          "output_type": "stream",
          "name": "stdout",
          "text": [
            "[[-13  -8 -10]\n",
            " [ -9  -3  -8]\n",
            " [ -6 -13 -10]]\n",
            "[[ 30 128  96]\n",
            " [162  70  33]\n",
            " [ 72  68 144]]\n",
            "[[0.13333333 0.5        0.375     ]\n",
            " [0.5        0.7        0.27272727]\n",
            " [0.5        0.23529412 0.44444444]]\n"
          ]
        }
      ]
    },
    {
      "cell_type": "code",
      "source": [
        "a = np.random.randint(0,10,(4,4))\n",
        "b = np.random.randint(10,20,(4,4))\n",
        "print(a)\n",
        "print(b)"
      ],
      "metadata": {
        "colab": {
          "base_uri": "https://localhost:8080/"
        },
        "id": "pvOG6DupaRYa",
        "outputId": "a2eb330c-d559-4c61-e134-b8fa35139fe0"
      },
      "execution_count": 52,
      "outputs": [
        {
          "output_type": "stream",
          "name": "stdout",
          "text": [
            "[[0 7 1 6]\n",
            " [3 7 7 0]\n",
            " [2 4 1 7]\n",
            " [3 8 2 0]]\n",
            "[[15 16 16 17]\n",
            " [19 13 11 15]\n",
            " [15 18 10 14]\n",
            " [15 18 11 13]]\n"
          ]
        }
      ]
    },
    {
      "cell_type": "code",
      "source": [
        "#another way of operation\n",
        "print(np.add(a,b))\n",
        "print(np.subtract(a,b))\n",
        "print(np.multiply(a,b))\n",
        "print(np.divide(a,b))"
      ],
      "metadata": {
        "colab": {
          "base_uri": "https://localhost:8080/"
        },
        "id": "Y4eEiriwanBj",
        "outputId": "391d4e87-c1da-4795-f4e2-85114f1f1e59"
      },
      "execution_count": 53,
      "outputs": [
        {
          "output_type": "stream",
          "name": "stdout",
          "text": [
            "[[15 23 17 23]\n",
            " [22 20 18 15]\n",
            " [17 22 11 21]\n",
            " [18 26 13 13]]\n",
            "[[-15  -9 -15 -11]\n",
            " [-16  -6  -4 -15]\n",
            " [-13 -14  -9  -7]\n",
            " [-12 -10  -9 -13]]\n",
            "[[  0 112  16 102]\n",
            " [ 57  91  77   0]\n",
            " [ 30  72  10  98]\n",
            " [ 45 144  22   0]]\n",
            "[[0.         0.4375     0.0625     0.35294118]\n",
            " [0.15789474 0.53846154 0.63636364 0.        ]\n",
            " [0.13333333 0.22222222 0.1        0.5       ]\n",
            " [0.2        0.44444444 0.18181818 0.        ]]\n"
          ]
        }
      ]
    },
    {
      "cell_type": "markdown",
      "source": [
        "Array Manipulation\n"
      ],
      "metadata": {
        "id": "b4EikzlQbKhY"
      }
    },
    {
      "cell_type": "code",
      "source": [
        "rray = np.random.randint(0,10,(2,3))\n",
        "print(rray)\n",
        "print(rray.shape)"
      ],
      "metadata": {
        "colab": {
          "base_uri": "https://localhost:8080/"
        },
        "id": "iSyBkDhja-YO",
        "outputId": "15adad52-735b-4e84-dbed-21a26a90af57"
      },
      "execution_count": 54,
      "outputs": [
        {
          "output_type": "stream",
          "name": "stdout",
          "text": [
            "[[4 6 2]\n",
            " [8 6 5]]\n",
            "(2, 3)\n"
          ]
        }
      ]
    },
    {
      "cell_type": "code",
      "source": [
        "#transpose the matrix\n",
        "trans = np.transpose(rray)\n",
        "print(trans)\n",
        "trans.dtype"
      ],
      "metadata": {
        "colab": {
          "base_uri": "https://localhost:8080/"
        },
        "id": "AQiXBoUdbXXG",
        "outputId": "0e37aed1-a0c9-4604-c90c-581c85ebb733"
      },
      "execution_count": 55,
      "outputs": [
        {
          "output_type": "stream",
          "name": "stdout",
          "text": [
            "[[4 8]\n",
            " [6 6]\n",
            " [2 5]]\n"
          ]
        },
        {
          "output_type": "execute_result",
          "data": {
            "text/plain": [
              "dtype('int64')"
            ]
          },
          "metadata": {},
          "execution_count": 55
        }
      ]
    },
    {
      "cell_type": "code",
      "source": [
        "rray = np.random.randint(0,10,(2,3))\n",
        "print(rray)\n",
        "print(rray.shape)"
      ],
      "metadata": {
        "colab": {
          "base_uri": "https://localhost:8080/"
        },
        "id": "-hQbr5n7blod",
        "outputId": "98b3bab8-65d2-484c-b736-556fc369334d"
      },
      "execution_count": 56,
      "outputs": [
        {
          "output_type": "stream",
          "name": "stdout",
          "text": [
            "[[4 0 9]\n",
            " [0 1 2]]\n",
            "(2, 3)\n"
          ]
        }
      ]
    },
    {
      "cell_type": "code",
      "source": [
        "trans2 = rray.T\n",
        "print(trans2)\n",
        "trans2.dtype"
      ],
      "metadata": {
        "colab": {
          "base_uri": "https://localhost:8080/"
        },
        "id": "ousNsIPsbxNb",
        "outputId": "0067f30c-4b1d-43bb-8b6e-cb1a967d575a"
      },
      "execution_count": 57,
      "outputs": [
        {
          "output_type": "stream",
          "name": "stdout",
          "text": [
            "[[4 0]\n",
            " [0 1]\n",
            " [9 2]]\n"
          ]
        },
        {
          "output_type": "execute_result",
          "data": {
            "text/plain": [
              "dtype('int64')"
            ]
          },
          "metadata": {},
          "execution_count": 57
        }
      ]
    },
    {
      "cell_type": "code",
      "source": [
        "#reshaping an array\n",
        "a = np.random.randint(0,10,(2,3))\n",
        "print(a)\n",
        "a.shape"
      ],
      "metadata": {
        "colab": {
          "base_uri": "https://localhost:8080/"
        },
        "id": "QG6RSE5_b7OG",
        "outputId": "df037d94-a243-493f-f93d-7bf5a7ca1e68"
      },
      "execution_count": 58,
      "outputs": [
        {
          "output_type": "stream",
          "name": "stdout",
          "text": [
            "[[1 5 6]\n",
            " [5 7 4]]\n"
          ]
        },
        {
          "output_type": "execute_result",
          "data": {
            "text/plain": [
              "(2, 3)"
            ]
          },
          "metadata": {},
          "execution_count": 58
        }
      ]
    },
    {
      "cell_type": "code",
      "source": [
        "b = a.reshape(3,2)\n",
        "print(b)\n",
        "print(b.shape)"
      ],
      "metadata": {
        "colab": {
          "base_uri": "https://localhost:8080/"
        },
        "id": "lTX4joRHcK8U",
        "outputId": "54010b20-4415-4eca-fb23-05253611e667"
      },
      "execution_count": 59,
      "outputs": [
        {
          "output_type": "stream",
          "name": "stdout",
          "text": [
            "[[1 5]\n",
            " [6 5]\n",
            " [7 4]]\n",
            "(3, 2)\n"
          ]
        }
      ]
    },
    {
      "cell_type": "code",
      "source": [],
      "metadata": {
        "id": "65nOVIhncSU3"
      },
      "execution_count": null,
      "outputs": []
    }
  ]
}