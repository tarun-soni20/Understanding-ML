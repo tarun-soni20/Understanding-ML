{
  "nbformat": 4,
  "nbformat_minor": 0,
  "metadata": {
    "colab": {
      "provenance": []
    },
    "kernelspec": {
      "name": "python3",
      "display_name": "Python 3"
    },
    "language_info": {
      "name": "python"
    }
  },
  "cells": [
    {
      "cell_type": "markdown",
      "source": [
        "Creating a Matrix using numpy library"
      ],
      "metadata": {
        "id": "NV-IKtDL38Ks"
      }
    },
    {
      "cell_type": "code",
      "execution_count": 1,
      "metadata": {
        "id": "Q8G5i5k-TgRo"
      },
      "outputs": [],
      "source": [
        "import numpy as np"
      ]
    },
    {
      "cell_type": "code",
      "source": [
        "matrix_1 = np.array([[1,2],[3,4]])\n",
        "print(matrix_1)"
      ],
      "metadata": {
        "colab": {
          "base_uri": "https://localhost:8080/"
        },
        "id": "eDrfE_Ik4Fce",
        "outputId": "f7946eed-63e1-4f8b-8519-a06295d57eb2"
      },
      "execution_count": 2,
      "outputs": [
        {
          "output_type": "stream",
          "name": "stdout",
          "text": [
            "[[1 2]\n",
            " [3 4]]\n"
          ]
        }
      ]
    },
    {
      "cell_type": "code",
      "source": [
        "matrix_1.shape"
      ],
      "metadata": {
        "colab": {
          "base_uri": "https://localhost:8080/"
        },
        "id": "rFXonrW84Sa7",
        "outputId": "3132777f-3ea5-4e4f-c62b-727415d30c78"
      },
      "execution_count": 3,
      "outputs": [
        {
          "output_type": "execute_result",
          "data": {
            "text/plain": [
              "(2, 2)"
            ]
          },
          "metadata": {},
          "execution_count": 3
        }
      ]
    },
    {
      "cell_type": "code",
      "source": [
        "matrix_2 = np.array([[1,2,3],[4,5,6],[7,8,9]])\n",
        "print(matrix_2)"
      ],
      "metadata": {
        "colab": {
          "base_uri": "https://localhost:8080/"
        },
        "id": "kcIrIz3T4VkY",
        "outputId": "0588e41b-3aa5-484b-cdc4-817242fa3b35"
      },
      "execution_count": 4,
      "outputs": [
        {
          "output_type": "stream",
          "name": "stdout",
          "text": [
            "[[1 2 3]\n",
            " [4 5 6]\n",
            " [7 8 9]]\n"
          ]
        }
      ]
    },
    {
      "cell_type": "code",
      "source": [
        "matrix_2.shape"
      ],
      "metadata": {
        "colab": {
          "base_uri": "https://localhost:8080/"
        },
        "id": "0-njvArd4gX6",
        "outputId": "1746b90f-bc6c-4f7d-c373-ad3751996df1"
      },
      "execution_count": 5,
      "outputs": [
        {
          "output_type": "execute_result",
          "data": {
            "text/plain": [
              "(3, 3)"
            ]
          },
          "metadata": {},
          "execution_count": 5
        }
      ]
    },
    {
      "cell_type": "markdown",
      "source": [
        "Creating Matrices with Random values"
      ],
      "metadata": {
        "id": "6wY9NmsN5FGo"
      }
    },
    {
      "cell_type": "code",
      "source": [
        "random_matrix =np.random.rand(4,4)\n",
        "print(random_matrix)"
      ],
      "metadata": {
        "colab": {
          "base_uri": "https://localhost:8080/"
        },
        "id": "m8ekI0F84ufE",
        "outputId": "fc33c1d8-3811-439f-ff7f-21ed203c3218"
      },
      "execution_count": 6,
      "outputs": [
        {
          "output_type": "stream",
          "name": "stdout",
          "text": [
            "[[0.3671379  0.97696768 0.83359185 0.28010785]\n",
            " [0.38926034 0.02837718 0.55372254 0.63052685]\n",
            " [0.21165619 0.25800071 0.63500001 0.67328841]\n",
            " [0.11222828 0.18380049 0.37679237 0.78006227]]\n"
          ]
        }
      ]
    },
    {
      "cell_type": "code",
      "source": [
        "#creating matrix with random integers\n",
        "random_int_matrix = np.random.randint(100, size = (4,5))\n",
        "print(random_int_matrix)"
      ],
      "metadata": {
        "colab": {
          "base_uri": "https://localhost:8080/"
        },
        "id": "vdiHbULy5VE1",
        "outputId": "1d2cc02c-a426-44b1-cac0-2bf8294d7ea9"
      },
      "execution_count": 7,
      "outputs": [
        {
          "output_type": "stream",
          "name": "stdout",
          "text": [
            "[[87 50 74 50  0]\n",
            " [24 45 74 40 84]\n",
            " [96  5 72 78 26]\n",
            " [93 87 51 79 54]]\n"
          ]
        }
      ]
    },
    {
      "cell_type": "markdown",
      "source": [
        "Matrix with all the values as 1\n"
      ],
      "metadata": {
        "id": "9dCug8qv5qoB"
      }
    },
    {
      "cell_type": "code",
      "source": [
        "matrix_3 = np.ones((3,4))\n",
        "print(matrix_3)"
      ],
      "metadata": {
        "colab": {
          "base_uri": "https://localhost:8080/"
        },
        "id": "fdM8iFHg5oLg",
        "outputId": "0104f5ae-5445-4975-e7a5-5df6ba717f2e"
      },
      "execution_count": 9,
      "outputs": [
        {
          "output_type": "stream",
          "name": "stdout",
          "text": [
            "[[1. 1. 1. 1.]\n",
            " [1. 1. 1. 1.]\n",
            " [1. 1. 1. 1.]]\n"
          ]
        }
      ]
    },
    {
      "cell_type": "code",
      "source": [
        "matrix_4  = np.ones((2,3), dtype =int)\n",
        "print(matrix_4)"
      ],
      "metadata": {
        "colab": {
          "base_uri": "https://localhost:8080/"
        },
        "id": "qClKrhpO59ub",
        "outputId": "07736fa3-61fb-4c70-c971-fe994d88e0bd"
      },
      "execution_count": 11,
      "outputs": [
        {
          "output_type": "stream",
          "name": "stdout",
          "text": [
            "[[1 1 1]\n",
            " [1 1 1]]\n"
          ]
        }
      ]
    },
    {
      "cell_type": "markdown",
      "source": [
        "NULL matrix or zero matrix"
      ],
      "metadata": {
        "id": "ehQMrW836Tgi"
      }
    },
    {
      "cell_type": "code",
      "source": [
        "null_matrix = np.zeros((3,3))\n",
        "print(null_matrix)"
      ],
      "metadata": {
        "colab": {
          "base_uri": "https://localhost:8080/"
        },
        "id": "SWTfvqyl6NKD",
        "outputId": "5acd07e0-a864-4d9f-ce33-9dee4c2e3729"
      },
      "execution_count": 12,
      "outputs": [
        {
          "output_type": "stream",
          "name": "stdout",
          "text": [
            "[[0. 0. 0.]\n",
            " [0. 0. 0.]\n",
            " [0. 0. 0.]]\n"
          ]
        }
      ]
    },
    {
      "cell_type": "markdown",
      "source": [
        "Identity matrix"
      ],
      "metadata": {
        "id": "sMvAt_CM6fTb"
      }
    },
    {
      "cell_type": "code",
      "source": [
        "identity_matrix = np.eye(3,3)\n",
        "print(identity_matrix)"
      ],
      "metadata": {
        "colab": {
          "base_uri": "https://localhost:8080/"
        },
        "id": "woMdFe5q6dcz",
        "outputId": "26b9a15a-8580-4449-f9b8-6499be0f2459"
      },
      "execution_count": 13,
      "outputs": [
        {
          "output_type": "stream",
          "name": "stdout",
          "text": [
            "[[1. 0. 0.]\n",
            " [0. 1. 0.]\n",
            " [0. 0. 1.]]\n"
          ]
        }
      ]
    },
    {
      "cell_type": "code",
      "source": [
        "# identity_matrix = np.eye((3,3), dtype = int)\n",
        "# print(identity_matrix)"
      ],
      "metadata": {
        "colab": {
          "base_uri": "https://localhost:8080/",
          "height": 331
        },
        "id": "2QEQ2Z6G6rWI",
        "outputId": "67950fe8-b20f-4d96-e99e-1e1b782d91e4"
      },
      "execution_count": 14,
      "outputs": [
        {
          "output_type": "error",
          "ename": "TypeError",
          "evalue": "ignored",
          "traceback": [
            "\u001b[0;31m---------------------------------------------------------------------------\u001b[0m",
            "\u001b[0;31mTypeError\u001b[0m                                 Traceback (most recent call last)",
            "\u001b[0;32m<ipython-input-14-f43476553e03>\u001b[0m in \u001b[0;36m<cell line: 1>\u001b[0;34m()\u001b[0m\n\u001b[0;32m----> 1\u001b[0;31m \u001b[0midentity_matrix\u001b[0m \u001b[0;34m=\u001b[0m \u001b[0mnp\u001b[0m\u001b[0;34m.\u001b[0m\u001b[0meye\u001b[0m\u001b[0;34m(\u001b[0m\u001b[0;34m(\u001b[0m\u001b[0;36m3\u001b[0m\u001b[0;34m,\u001b[0m\u001b[0;36m3\u001b[0m\u001b[0;34m)\u001b[0m\u001b[0;34m,\u001b[0m \u001b[0mdtype\u001b[0m \u001b[0;34m=\u001b[0m \u001b[0mint\u001b[0m\u001b[0;34m)\u001b[0m\u001b[0;34m\u001b[0m\u001b[0;34m\u001b[0m\u001b[0m\n\u001b[0m\u001b[1;32m      2\u001b[0m \u001b[0mprint\u001b[0m\u001b[0;34m(\u001b[0m\u001b[0midentity_matrix\u001b[0m\u001b[0;34m)\u001b[0m\u001b[0;34m\u001b[0m\u001b[0;34m\u001b[0m\u001b[0m\n",
            "\u001b[0;32m/usr/local/lib/python3.10/dist-packages/numpy/lib/twodim_base.py\u001b[0m in \u001b[0;36meye\u001b[0;34m(N, M, k, dtype, order, like)\u001b[0m\n\u001b[1;32m    213\u001b[0m     \u001b[0;32mif\u001b[0m \u001b[0mM\u001b[0m \u001b[0;32mis\u001b[0m \u001b[0;32mNone\u001b[0m\u001b[0;34m:\u001b[0m\u001b[0;34m\u001b[0m\u001b[0;34m\u001b[0m\u001b[0m\n\u001b[1;32m    214\u001b[0m         \u001b[0mM\u001b[0m \u001b[0;34m=\u001b[0m \u001b[0mN\u001b[0m\u001b[0;34m\u001b[0m\u001b[0;34m\u001b[0m\u001b[0m\n\u001b[0;32m--> 215\u001b[0;31m     \u001b[0mm\u001b[0m \u001b[0;34m=\u001b[0m \u001b[0mzeros\u001b[0m\u001b[0;34m(\u001b[0m\u001b[0;34m(\u001b[0m\u001b[0mN\u001b[0m\u001b[0;34m,\u001b[0m \u001b[0mM\u001b[0m\u001b[0;34m)\u001b[0m\u001b[0;34m,\u001b[0m \u001b[0mdtype\u001b[0m\u001b[0;34m=\u001b[0m\u001b[0mdtype\u001b[0m\u001b[0;34m,\u001b[0m \u001b[0morder\u001b[0m\u001b[0;34m=\u001b[0m\u001b[0morder\u001b[0m\u001b[0;34m)\u001b[0m\u001b[0;34m\u001b[0m\u001b[0;34m\u001b[0m\u001b[0m\n\u001b[0m\u001b[1;32m    216\u001b[0m     \u001b[0;32mif\u001b[0m \u001b[0mk\u001b[0m \u001b[0;34m>=\u001b[0m \u001b[0mM\u001b[0m\u001b[0;34m:\u001b[0m\u001b[0;34m\u001b[0m\u001b[0;34m\u001b[0m\u001b[0m\n\u001b[1;32m    217\u001b[0m         \u001b[0;32mreturn\u001b[0m \u001b[0mm\u001b[0m\u001b[0;34m\u001b[0m\u001b[0;34m\u001b[0m\u001b[0m\n",
            "\u001b[0;31mTypeError\u001b[0m: 'tuple' object cannot be interpreted as an integer"
          ]
        }
      ]
    },
    {
      "cell_type": "markdown",
      "source": [
        "Transpose of a matrix"
      ],
      "metadata": {
        "id": "0bQpogZH69D6"
      }
    },
    {
      "cell_type": "code",
      "source": [
        "#matrix with random integer values\n",
        "a = np.random.randint(200, size =(4,5))\n",
        "print(a)"
      ],
      "metadata": {
        "colab": {
          "base_uri": "https://localhost:8080/"
        },
        "id": "CVuvc43o6yC3",
        "outputId": "13136e65-14bd-4fcc-8875-aeb30398524b"
      },
      "execution_count": 15,
      "outputs": [
        {
          "output_type": "stream",
          "name": "stdout",
          "text": [
            "[[ 50 193  93 138  19]\n",
            " [160  17 165 138 106]\n",
            " [117 149 115 149 106]\n",
            " [102 165 114  34 136]]\n"
          ]
        }
      ]
    },
    {
      "cell_type": "code",
      "source": [
        "transpose_of_a = np.transpose(a)\n",
        "print(transpose_of_a)"
      ],
      "metadata": {
        "colab": {
          "base_uri": "https://localhost:8080/"
        },
        "id": "oBuKZi2Y7Mpw",
        "outputId": "9ee2ba29-54a9-4318-bd25-0ed7d56656c0"
      },
      "execution_count": 17,
      "outputs": [
        {
          "output_type": "stream",
          "name": "stdout",
          "text": [
            "[[ 50 160 117 102]\n",
            " [193  17 149 165]\n",
            " [ 93 165 115 114]\n",
            " [138 138 149  34]\n",
            " [ 19 106 106 136]]\n"
          ]
        }
      ]
    },
    {
      "cell_type": "markdown",
      "source": [
        "Matrix Addition\n",
        "\n",
        "Two Matrices can be added only if they have the same shape"
      ],
      "metadata": {
        "id": "GvD-ujkK_Wre"
      }
    },
    {
      "cell_type": "code",
      "source": [
        "# creating two matrices\n",
        "\n",
        "A = np.array([[2,3],[4,5]])\n",
        "\n",
        "B = np.array([[6,7],[8,9]])"
      ],
      "metadata": {
        "id": "I7rWfHO27dVP"
      },
      "execution_count": 18,
      "outputs": []
    },
    {
      "cell_type": "code",
      "source": [
        "print(A)\n",
        "print(B)"
      ],
      "metadata": {
        "colab": {
          "base_uri": "https://localhost:8080/"
        },
        "id": "Uz5JosVy_de4",
        "outputId": "dcfe5816-11e9-4d6c-a72c-fe13bb5b6904"
      },
      "execution_count": 19,
      "outputs": [
        {
          "output_type": "stream",
          "name": "stdout",
          "text": [
            "[[2 3]\n",
            " [4 5]]\n",
            "[[6 7]\n",
            " [8 9]]\n"
          ]
        }
      ]
    },
    {
      "cell_type": "code",
      "source": [
        "A.shape\n",
        "B.shape"
      ],
      "metadata": {
        "colab": {
          "base_uri": "https://localhost:8080/"
        },
        "id": "aRz5juzF_h4Q",
        "outputId": "0d9e0531-e877-449f-99d1-245ac93745d4"
      },
      "execution_count": 20,
      "outputs": [
        {
          "output_type": "execute_result",
          "data": {
            "text/plain": [
              "(2, 2)"
            ]
          },
          "metadata": {},
          "execution_count": 20
        }
      ]
    },
    {
      "cell_type": "code",
      "source": [
        "sum = A+B\n",
        "print(sum)"
      ],
      "metadata": {
        "colab": {
          "base_uri": "https://localhost:8080/"
        },
        "id": "-12w8-LP_lGu",
        "outputId": "ade12787-5959-403f-c6bc-f0234a428d34"
      },
      "execution_count": 21,
      "outputs": [
        {
          "output_type": "stream",
          "name": "stdout",
          "text": [
            "[[ 8 10]\n",
            " [12 14]]\n"
          ]
        }
      ]
    },
    {
      "cell_type": "code",
      "source": [
        "# create two matrices with random values\n",
        "matrix_1 = np.random.randint(10, size=(3,3))\n",
        "matrix_2 = np.random.randint(20, size=(3,3))"
      ],
      "metadata": {
        "id": "onU5DyGu_osp"
      },
      "execution_count": 22,
      "outputs": []
    },
    {
      "cell_type": "code",
      "source": [
        "print(matrix_1)\n",
        "print(matrix_2)"
      ],
      "metadata": {
        "colab": {
          "base_uri": "https://localhost:8080/"
        },
        "id": "svLqySnB_s-6",
        "outputId": "58f16fff-32ad-4cb0-83b5-72b5dad86de8"
      },
      "execution_count": 23,
      "outputs": [
        {
          "output_type": "stream",
          "name": "stdout",
          "text": [
            "[[1 1 4]\n",
            " [0 8 8]\n",
            " [8 7 2]]\n",
            "[[11  4  0]\n",
            " [11 18  2]\n",
            " [ 3  2  3]]\n"
          ]
        }
      ]
    },
    {
      "cell_type": "code",
      "source": [
        "sum = np.add(matrix_1, matrix_2)\n",
        "print(sum)"
      ],
      "metadata": {
        "colab": {
          "base_uri": "https://localhost:8080/"
        },
        "id": "1y8nVKkC_x6y",
        "outputId": "afc43cd2-4442-4905-cf58-c0192c715380"
      },
      "execution_count": 25,
      "outputs": [
        {
          "output_type": "stream",
          "name": "stdout",
          "text": [
            "[[12  5  4]\n",
            " [11 26 10]\n",
            " [11  9  5]]\n"
          ]
        }
      ]
    },
    {
      "cell_type": "code",
      "source": [
        "#Matrix Subtraction\n",
        "A = np.array([[2,3],[4,5]])\n",
        "\n",
        "B = np.array([[6,7],[8,9]])\n",
        "\n",
        "print(A)\n",
        "print(B)"
      ],
      "metadata": {
        "colab": {
          "base_uri": "https://localhost:8080/"
        },
        "id": "mbdnxpkK_0SW",
        "outputId": "50efab61-aec0-40f7-8374-5b3bca0266ed"
      },
      "execution_count": 26,
      "outputs": [
        {
          "output_type": "stream",
          "name": "stdout",
          "text": [
            "[[2 3]\n",
            " [4 5]]\n",
            "[[6 7]\n",
            " [8 9]]\n"
          ]
        }
      ]
    },
    {
      "cell_type": "code",
      "source": [
        "diff = A - B\n",
        "print(diff)"
      ],
      "metadata": {
        "colab": {
          "base_uri": "https://localhost:8080/"
        },
        "id": "tGho_EEyAAQj",
        "outputId": "7c5295e7-b307-4cfd-8362-f99c0775a1c1"
      },
      "execution_count": 27,
      "outputs": [
        {
          "output_type": "stream",
          "name": "stdout",
          "text": [
            "[[-4 -4]\n",
            " [-4 -4]]\n"
          ]
        }
      ]
    },
    {
      "cell_type": "code",
      "source": [
        "difference = np.subtract(A,B)\n",
        "print(difference)"
      ],
      "metadata": {
        "colab": {
          "base_uri": "https://localhost:8080/"
        },
        "id": "DV57RSLPAGMI",
        "outputId": "169e111d-9d76-4e79-8b4f-b61f63976341"
      },
      "execution_count": 29,
      "outputs": [
        {
          "output_type": "stream",
          "name": "stdout",
          "text": [
            "[[-4 -4]\n",
            " [-4 -4]]\n"
          ]
        }
      ]
    },
    {
      "cell_type": "code",
      "source": [
        "#Multiplying a matrix by a scalar\n",
        "x = 5\n",
        "y = np.random.randint(10, size=(4,4))\n",
        "\n",
        "print(y)"
      ],
      "metadata": {
        "colab": {
          "base_uri": "https://localhost:8080/"
        },
        "id": "qrhN1HH9AP3k",
        "outputId": "6ddd6f57-413e-4a4a-ff26-aaeccd5ac15a"
      },
      "execution_count": 30,
      "outputs": [
        {
          "output_type": "stream",
          "name": "stdout",
          "text": [
            "[[1 6 3 9]\n",
            " [4 6 0 4]\n",
            " [9 6 6 1]\n",
            " [2 1 9 2]]\n"
          ]
        }
      ]
    },
    {
      "cell_type": "code",
      "source": [
        "product = np.multiply(x,y)\n",
        "\n",
        "print(product)"
      ],
      "metadata": {
        "colab": {
          "base_uri": "https://localhost:8080/"
        },
        "id": "VjKJTE8uAZuK",
        "outputId": "7c63e68c-8997-455a-b768-909cf15522b7"
      },
      "execution_count": 32,
      "outputs": [
        {
          "output_type": "stream",
          "name": "stdout",
          "text": [
            "[[ 5 30 15 45]\n",
            " [20 30  0 20]\n",
            " [45 30 30  5]\n",
            " [10  5 45 10]]\n"
          ]
        }
      ]
    },
    {
      "cell_type": "code",
      "source": [
        "#Multiplying 2 Matrices\n",
        "matrix_3 = np.random.randint(5, size=(3,3))\n",
        "matrix_4 = np.random.randint(5, size=(3,4))\n",
        ""
      ],
      "metadata": {
        "id": "kyZykY73Ac35"
      },
      "execution_count": 33,
      "outputs": []
    },
    {
      "cell_type": "code",
      "source": [
        "product = np.dot(matrix_3, matrix_4)\n",
        "print(product)"
      ],
      "metadata": {
        "colab": {
          "base_uri": "https://localhost:8080/"
        },
        "id": "IW4qdulAAlgw",
        "outputId": "cce183ac-45d5-4ab3-ff58-c3ed9f8182fe"
      },
      "execution_count": 35,
      "outputs": [
        {
          "output_type": "stream",
          "name": "stdout",
          "text": [
            "[[19  8 12 10]\n",
            " [29 10 18 14]\n",
            " [25 10 10  6]]\n"
          ]
        }
      ]
    },
    {
      "cell_type": "code",
      "source": [
        "product.shape"
      ],
      "metadata": {
        "colab": {
          "base_uri": "https://localhost:8080/"
        },
        "id": "xVZGZoWwAmCQ",
        "outputId": "dea1cf61-fb8f-4fcd-ca13-e106adac7886"
      },
      "execution_count": 36,
      "outputs": [
        {
          "output_type": "execute_result",
          "data": {
            "text/plain": [
              "(3, 4)"
            ]
          },
          "metadata": {},
          "execution_count": 36
        }
      ]
    },
    {
      "cell_type": "markdown",
      "source": [
        "Element wise Matrix Multiplication"
      ],
      "metadata": {
        "id": "Mo6Y9mOYAviA"
      }
    },
    {
      "cell_type": "code",
      "source": [
        "# create two matrices with random values\n",
        "matrix_3 = np.random.randint(5, size=(3,3))\n",
        "matrix_4 = np.random.randint(5, size=(3,3))\n",
        "product = np.multiply(matrix_3, matrix_4)\n",
        "print(product)"
      ],
      "metadata": {
        "colab": {
          "base_uri": "https://localhost:8080/"
        },
        "id": "xnsuz1DsArmy",
        "outputId": "d9abbf0a-149d-4aa1-9109-477fed549dff"
      },
      "execution_count": 37,
      "outputs": [
        {
          "output_type": "stream",
          "name": "stdout",
          "text": [
            "[[6 6 0]\n",
            " [0 3 0]\n",
            " [8 0 8]]\n"
          ]
        }
      ]
    },
    {
      "cell_type": "code",
      "source": [],
      "metadata": {
        "id": "EPTyOM76A5Uv"
      },
      "execution_count": null,
      "outputs": []
    }
  ]
}